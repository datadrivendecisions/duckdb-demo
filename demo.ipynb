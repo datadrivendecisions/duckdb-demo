{
 "cells": [
  {
   "cell_type": "markdown",
   "metadata": {},
   "source": [
    "## Load in data"
   ]
  },
  {
   "cell_type": "code",
   "execution_count": 1,
   "metadata": {},
   "outputs": [
    {
     "data": {
      "text/html": [
       "<div>\n",
       "<style scoped>\n",
       "    .dataframe tbody tr th:only-of-type {\n",
       "        vertical-align: middle;\n",
       "    }\n",
       "\n",
       "    .dataframe tbody tr th {\n",
       "        vertical-align: top;\n",
       "    }\n",
       "\n",
       "    .dataframe thead th {\n",
       "        text-align: right;\n",
       "    }\n",
       "</style>\n",
       "<table border=\"1\" class=\"dataframe\">\n",
       "  <thead>\n",
       "    <tr style=\"text-align: right;\">\n",
       "      <th></th>\n",
       "      <th>User ID</th>\n",
       "      <th>Vehicle Model</th>\n",
       "      <th>Battery Capacity (kWh)</th>\n",
       "      <th>Charging Station ID</th>\n",
       "      <th>Charging Station Location</th>\n",
       "      <th>Charging Start Time</th>\n",
       "      <th>Charging End Time</th>\n",
       "      <th>Energy Consumed (kWh)</th>\n",
       "      <th>Charging Duration (hours)</th>\n",
       "      <th>Charging Rate (kW)</th>\n",
       "      <th>Charging Cost (USD)</th>\n",
       "      <th>Time of Day</th>\n",
       "      <th>Day of Week</th>\n",
       "      <th>State of Charge (Start %)</th>\n",
       "      <th>State of Charge (End %)</th>\n",
       "      <th>Distance Driven (since last charge) (km)</th>\n",
       "      <th>Temperature (°C)</th>\n",
       "      <th>Vehicle Age (years)</th>\n",
       "      <th>Charger Type</th>\n",
       "      <th>User Type</th>\n",
       "    </tr>\n",
       "  </thead>\n",
       "  <tbody>\n",
       "    <tr>\n",
       "      <th>0</th>\n",
       "      <td>User_1</td>\n",
       "      <td>BMW i3</td>\n",
       "      <td>108.463007</td>\n",
       "      <td>Station_391</td>\n",
       "      <td>Houston</td>\n",
       "      <td>2024-01-01 00:00:00</td>\n",
       "      <td>2024-01-01 00:39:00</td>\n",
       "      <td>60.712346</td>\n",
       "      <td>0.591363</td>\n",
       "      <td>36.389181</td>\n",
       "      <td>13.087717</td>\n",
       "      <td>Evening</td>\n",
       "      <td>Tuesday</td>\n",
       "      <td>29.371576</td>\n",
       "      <td>86.119962</td>\n",
       "      <td>293.602111</td>\n",
       "      <td>27.947953</td>\n",
       "      <td>2.0</td>\n",
       "      <td>DC Fast Charger</td>\n",
       "      <td>Commuter</td>\n",
       "    </tr>\n",
       "    <tr>\n",
       "      <th>1</th>\n",
       "      <td>User_2</td>\n",
       "      <td>Hyundai Kona</td>\n",
       "      <td>100.000000</td>\n",
       "      <td>Station_428</td>\n",
       "      <td>San Francisco</td>\n",
       "      <td>2024-01-01 01:00:00</td>\n",
       "      <td>2024-01-01 03:01:00</td>\n",
       "      <td>12.339275</td>\n",
       "      <td>3.133652</td>\n",
       "      <td>30.677735</td>\n",
       "      <td>21.128448</td>\n",
       "      <td>Morning</td>\n",
       "      <td>Monday</td>\n",
       "      <td>10.115778</td>\n",
       "      <td>84.664344</td>\n",
       "      <td>112.112804</td>\n",
       "      <td>14.311026</td>\n",
       "      <td>3.0</td>\n",
       "      <td>Level 1</td>\n",
       "      <td>Casual Driver</td>\n",
       "    </tr>\n",
       "    <tr>\n",
       "      <th>2</th>\n",
       "      <td>User_3</td>\n",
       "      <td>Chevy Bolt</td>\n",
       "      <td>75.000000</td>\n",
       "      <td>Station_181</td>\n",
       "      <td>San Francisco</td>\n",
       "      <td>2024-01-01 02:00:00</td>\n",
       "      <td>2024-01-01 04:48:00</td>\n",
       "      <td>19.128876</td>\n",
       "      <td>2.452653</td>\n",
       "      <td>27.513593</td>\n",
       "      <td>35.667270</td>\n",
       "      <td>Morning</td>\n",
       "      <td>Thursday</td>\n",
       "      <td>6.854604</td>\n",
       "      <td>69.917615</td>\n",
       "      <td>71.799253</td>\n",
       "      <td>21.002002</td>\n",
       "      <td>2.0</td>\n",
       "      <td>Level 2</td>\n",
       "      <td>Commuter</td>\n",
       "    </tr>\n",
       "    <tr>\n",
       "      <th>3</th>\n",
       "      <td>User_4</td>\n",
       "      <td>Hyundai Kona</td>\n",
       "      <td>50.000000</td>\n",
       "      <td>Station_327</td>\n",
       "      <td>Houston</td>\n",
       "      <td>2024-01-01 03:00:00</td>\n",
       "      <td>2024-01-01 06:42:00</td>\n",
       "      <td>79.457824</td>\n",
       "      <td>1.266431</td>\n",
       "      <td>32.882870</td>\n",
       "      <td>13.036239</td>\n",
       "      <td>Evening</td>\n",
       "      <td>Saturday</td>\n",
       "      <td>83.120003</td>\n",
       "      <td>99.624328</td>\n",
       "      <td>199.577785</td>\n",
       "      <td>38.316313</td>\n",
       "      <td>1.0</td>\n",
       "      <td>Level 1</td>\n",
       "      <td>Long-Distance Traveler</td>\n",
       "    </tr>\n",
       "    <tr>\n",
       "      <th>4</th>\n",
       "      <td>User_5</td>\n",
       "      <td>Hyundai Kona</td>\n",
       "      <td>50.000000</td>\n",
       "      <td>Station_108</td>\n",
       "      <td>Los Angeles</td>\n",
       "      <td>2024-01-01 04:00:00</td>\n",
       "      <td>2024-01-01 05:46:00</td>\n",
       "      <td>19.629104</td>\n",
       "      <td>2.019765</td>\n",
       "      <td>10.215712</td>\n",
       "      <td>10.161471</td>\n",
       "      <td>Morning</td>\n",
       "      <td>Saturday</td>\n",
       "      <td>54.258950</td>\n",
       "      <td>63.743786</td>\n",
       "      <td>203.661847</td>\n",
       "      <td>-7.834199</td>\n",
       "      <td>1.0</td>\n",
       "      <td>Level 1</td>\n",
       "      <td>Long-Distance Traveler</td>\n",
       "    </tr>\n",
       "  </tbody>\n",
       "</table>\n",
       "</div>"
      ],
      "text/plain": [
       "  User ID Vehicle Model  Battery Capacity (kWh) Charging Station ID  \\\n",
       "0  User_1        BMW i3              108.463007         Station_391   \n",
       "1  User_2  Hyundai Kona              100.000000         Station_428   \n",
       "2  User_3    Chevy Bolt               75.000000         Station_181   \n",
       "3  User_4  Hyundai Kona               50.000000         Station_327   \n",
       "4  User_5  Hyundai Kona               50.000000         Station_108   \n",
       "\n",
       "  Charging Station Location  Charging Start Time    Charging End Time  \\\n",
       "0                   Houston  2024-01-01 00:00:00  2024-01-01 00:39:00   \n",
       "1             San Francisco  2024-01-01 01:00:00  2024-01-01 03:01:00   \n",
       "2             San Francisco  2024-01-01 02:00:00  2024-01-01 04:48:00   \n",
       "3                   Houston  2024-01-01 03:00:00  2024-01-01 06:42:00   \n",
       "4               Los Angeles  2024-01-01 04:00:00  2024-01-01 05:46:00   \n",
       "\n",
       "   Energy Consumed (kWh)  Charging Duration (hours)  Charging Rate (kW)  \\\n",
       "0              60.712346                   0.591363           36.389181   \n",
       "1              12.339275                   3.133652           30.677735   \n",
       "2              19.128876                   2.452653           27.513593   \n",
       "3              79.457824                   1.266431           32.882870   \n",
       "4              19.629104                   2.019765           10.215712   \n",
       "\n",
       "   Charging Cost (USD) Time of Day Day of Week  State of Charge (Start %)  \\\n",
       "0            13.087717     Evening     Tuesday                  29.371576   \n",
       "1            21.128448     Morning      Monday                  10.115778   \n",
       "2            35.667270     Morning    Thursday                   6.854604   \n",
       "3            13.036239     Evening    Saturday                  83.120003   \n",
       "4            10.161471     Morning    Saturday                  54.258950   \n",
       "\n",
       "   State of Charge (End %)  Distance Driven (since last charge) (km)  \\\n",
       "0                86.119962                                293.602111   \n",
       "1                84.664344                                112.112804   \n",
       "2                69.917615                                 71.799253   \n",
       "3                99.624328                                199.577785   \n",
       "4                63.743786                                203.661847   \n",
       "\n",
       "   Temperature (°C)  Vehicle Age (years)     Charger Type  \\\n",
       "0         27.947953                  2.0  DC Fast Charger   \n",
       "1         14.311026                  3.0          Level 1   \n",
       "2         21.002002                  2.0          Level 2   \n",
       "3         38.316313                  1.0          Level 1   \n",
       "4         -7.834199                  1.0          Level 1   \n",
       "\n",
       "                User Type  \n",
       "0                Commuter  \n",
       "1           Casual Driver  \n",
       "2                Commuter  \n",
       "3  Long-Distance Traveler  \n",
       "4  Long-Distance Traveler  "
      ]
     },
     "execution_count": 1,
     "metadata": {},
     "output_type": "execute_result"
    }
   ],
   "source": [
    "import pandas as pd\n",
    "\n",
    "url = \"https://raw.githubusercontent.com/datadrivendecisions/duckdb-demo/refs/heads/main/ev_charging_patterns.csv\"\n",
    "df = pd.read_csv(url)\n",
    "df.head()"
   ]
  },
  {
   "cell_type": "markdown",
   "metadata": {},
   "source": [
    "## Query with DuckDB"
   ]
  },
  {
   "cell_type": "code",
   "execution_count": 2,
   "metadata": {},
   "outputs": [
    {
     "data": {
      "text/plain": [
       "┌───────────┬───────────────┬────────────────────────┬─────────────────────┬───────────────────────────┬─────────────────────┬─────────────────────┬───────────────────────┬───────────────────────────┬────────────────────┬─────────────────────┬─────────────┬─────────────┬───────────────────────────┬─────────────────────────┬──────────────────────────────────────────┬─────────────────────┬─────────────────────┬─────────────────┬────────────────────────┐\n",
       "│  User ID  │ Vehicle Model │ Battery Capacity (kWh) │ Charging Station ID │ Charging Station Location │ Charging Start Time │  Charging End Time  │ Energy Consumed (kWh) │ Charging Duration (hours) │ Charging Rate (kW) │ Charging Cost (USD) │ Time of Day │ Day of Week │ State of Charge (Start %) │ State of Charge (End %) │ Distance Driven (since last charge) (km) │  Temperature (°C)   │ Vehicle Age (years) │  Charger Type   │       User Type        │\n",
       "│  varchar  │    varchar    │         double         │       varchar       │          varchar          │      timestamp      │      timestamp      │        double         │          double           │       double       │       double        │   varchar   │   varchar   │          double           │         double          │                  double                  │       double        │       double        │     varchar     │        varchar         │\n",
       "├───────────┼───────────────┼────────────────────────┼─────────────────────┼───────────────────────────┼─────────────────────┼─────────────────────┼───────────────────────┼───────────────────────────┼────────────────────┼─────────────────────┼─────────────┼─────────────┼───────────────────────────┼─────────────────────────┼──────────────────────────────────────────┼─────────────────────┼─────────────────────┼─────────────────┼────────────────────────┤\n",
       "│ User_1    │ BMW i3        │     108.46300741284072 │ Station_391         │ Houston                   │ 2024-01-01 00:00:00 │ 2024-01-01 00:39:00 │     60.71234573492677 │        0.5913634253585007 │   36.3891805669814 │  13.087716791774506 │ Evening     │ Tuesday     │        29.371575979140047 │       86.11996244457839 │                        293.6021106383279 │  27.947953055800944 │                 2.0 │ DC Fast Charger │ Commuter               │\n",
       "│ User_2    │ Hyundai Kona  │                  100.0 │ Station_428         │ San Francisco             │ 2024-01-01 01:00:00 │ 2024-01-01 03:01:00 │    12.339275203733752 │         3.133652052688084 │ 30.677734939714437 │   21.12844792913739 │ Morning     │ Monday      │        10.115777641679946 │       84.66434362786444 │                       112.11280368218186 │  14.311025660377787 │                 3.0 │ Level 1         │ Casual Driver          │\n",
       "│ User_3    │ Chevy Bolt    │                   75.0 │ Station_181         │ San Francisco             │ 2024-01-01 02:00:00 │ 2024-01-01 04:48:00 │    19.128875700115476 │        2.4526527258367823 │ 27.513592558773237 │   35.66727042356739 │ Morning     │ Thursday    │         6.854604444398554 │       69.91761524016282 │                        71.79925292594801 │   21.00200183614421 │                 2.0 │ Level 2         │ Commuter               │\n",
       "│ User_4    │ Hyundai Kona  │                   50.0 │ Station_327         │ Houston                   │ 2024-01-01 03:00:00 │ 2024-01-01 06:42:00 │     79.45782398845503 │        1.2664308046204513 │ 32.882869757386224 │  13.036238833914622 │ Evening     │ Saturday    │         83.12000296074223 │       99.62432763119423 │                        199.5777845163286 │  38.316313160363435 │                 1.0 │ Level 1         │ Long-Distance Traveler │\n",
       "│ User_5    │ Hyundai Kona  │                   50.0 │ Station_108         │ Los Angeles               │ 2024-01-01 04:00:00 │ 2024-01-01 05:46:00 │     19.62910416772725 │        2.0197650865894614 │ 10.215712071204607 │  10.161471171031415 │ Morning     │ Saturday    │         54.25894969116981 │      63.743786036169695 │                       203.66184655799864 │ -7.8341990272492135 │                 1.0 │ Level 1         │ Long-Distance Traveler │\n",
       "│ User_6    │ Nissan Leaf   │                   50.0 │ Station_335         │ San Francisco             │ 2024-01-01 05:00:00 │ 2024-01-01 07:10:00 │     43.18113714248533 │        1.1676401541014236 │  14.33452277611833 │   36.90034077796173 │ Evening     │ Saturday    │         75.21774833696946 │       71.98228757123687 │                       143.68004610728443 │  -5.274217796522686 │                 0.0 │ DC Fast Charger │ Long-Distance Traveler │\n",
       "│ User_7    │ Chevy Bolt    │                   85.0 │ Station_162         │ Houston                   │ 2024-01-01 06:00:00 │ 2024-01-01 07:53:00 │    36.862139988267536 │        3.5396190263161467 │ 26.185187860033516 │   22.21422517569784 │ Evening     │ Friday      │         60.75178075976676 │       70.79609690147149 │                        81.33800890802773 │    27.5513346806664 │                 4.0 │ Level 2         │ Commuter               │\n",
       "│ User_8    │ Chevy Bolt    │                   75.0 │ Station_302         │ Los Angeles               │ 2024-01-01 07:00:00 │ 2024-01-01 10:42:00 │     51.46761685839947 │        2.6553964456130235 │   26.7029077655282 │   9.796821321322033 │ Afternoon   │ Monday      │        56.201703032995454 │      63.786815331776616 │                       116.54316578116932 │   -4.41745966595273 │                 0.0 │ Level 2         │ Long-Distance Traveler │\n",
       "│ User_9    │ Chevy Bolt    │                   62.0 │ Station_493         │ Los Angeles               │ 2024-01-01 08:00:00 │ 2024-01-01 09:21:00 │     43.59237228216989 │         1.724203599132774 │ 14.294922926661108 │  32.465005072088225 │ Evening     │ Wednesday   │         33.46620026326066 │       92.96142090358896 │                       208.25974249443672 │   22.51670642679634 │                 4.0 │ Level 1         │ Commuter               │\n",
       "│ User_10   │ Hyundai Kona  │                   50.0 │ Station_452         │ Chicago                   │ 2024-01-01 09:00:00 │ 2024-01-01 12:44:00 │     78.86860745126785 │        2.0268746909843576 │  11.76099971515701 │  21.312302451155745 │ Morning     │ Wednesday   │        27.399454625609152 │       70.05338137780706 │                        54.00630919992556 │  27.512019364625914 │   2.830381306943589 │ DC Fast Charger │ Commuter               │\n",
       "│    ·      │      ·        │                     ·  │      ·              │    ·                      │          ·          │          ·          │             ·         │                 ·         │          ·         │           ·         │    ·        │    ·        │                 ·         │                 ·       │                                       ·  │           ·         │                  ·  │    ·            │    ·                   │\n",
       "│    ·      │      ·        │                     ·  │      ·              │    ·                      │          ·          │          ·          │             ·         │                 ·         │          ·         │           ·         │    ·        │    ·        │                 ·         │                 ·       │                                       ·  │           ·         │                  ·  │    ·            │    ·                   │\n",
       "│    ·      │      ·        │                     ·  │      ·              │    ·                      │          ·          │          ·          │             ·         │                 ·         │          ·         │           ·         │    ·        │    ·        │                 ·         │                 ·       │                                       ·  │           ·         │                  ·  │    ·            │    ·                   │\n",
       "│ User_1311 │ Tesla Model 3 │                   62.0 │ Station_268         │ New York                  │ 2024-02-24 14:00:00 │ 2024-02-24 17:50:00 │     66.97990803084751 │        0.7756632656622946 │ 13.787151372552215 │   38.83301030523854 │ Afternoon   │ Saturday    │         64.12607256669314 │          94.36493349621 │                                     NULL │   36.43208816912748 │                 1.0 │ Level 2         │ Casual Driver          │\n",
       "│ User_1312 │ Hyundai Kona  │                   50.0 │ Station_13          │ Houston                   │ 2024-02-24 15:00:00 │ 2024-02-24 18:53:00 │     74.27670057664027 │        2.8491514275571355 │ 25.073544324039364 │   38.19400613708986 │ Night       │ Tuesday     │         41.34406167397294 │        50.4123412636568 │                       194.79354387429612 │   7.731967314013154 │                 3.0 │ Level 2         │ Commuter               │\n",
       "│ User_1313 │ Nissan Leaf   │                   75.0 │ Station_120         │ Houston                   │ 2024-02-24 16:00:00 │ 2024-02-24 18:54:00 │     39.73385254628378 │        1.2492962907593128 │ 21.395605777560547 │  19.413665080852823 │ Morning     │ Tuesday     │         55.86361499761188 │       85.12226222000578 │                                     NULL │  24.108952961291443 │                 0.0 │ Level 1         │ Casual Driver          │\n",
       "│ User_1314 │ Tesla Model 3 │     129.35061620415664 │ Station_458         │ Chicago                   │ 2024-02-24 17:00:00 │ 2024-02-24 19:35:00 │      60.7251438890711 │         2.365990922637261 │ 10.491920900615758 │  11.289733305995538 │ Night       │ Saturday    │        41.856824690728146 │       94.09788342638663 │                       279.55227750602785 │ -1.3699940674453366 │                 3.0 │ Level 2         │ Long-Distance Traveler │\n",
       "│ User_1315 │ Hyundai Kona  │                   50.0 │ Station_353         │ New York                  │ 2024-02-24 18:00:00 │ 2024-02-24 19:58:00 │    43.251453479602375 │         2.501808768424507 │ 63.216118380746416 │   36.35692965878583 │ Morning     │ Monday      │        62.108672404096424 │       65.19889545747364 │                       220.28186326914656 │  1.6308497238612816 │                 5.0 │ Level 1         │ Long-Distance Traveler │\n",
       "│ User_1316 │ Nissan Leaf   │                  100.0 │ Station_57          │ New York                  │ 2024-02-24 19:00:00 │ 2024-02-24 20:30:00 │     42.01165353037616 │         1.426444321988523 │  5.895475086176862 │   22.08116362698238 │ Evening     │ Sunday      │         39.20410154877641 │       83.91595179926459 │                       239.60107457934473 │  1.9196547033929292 │                 7.0 │ DC Fast Charger │ Commuter               │\n",
       "│ User_1317 │ BMW i3        │                  100.0 │ Station_40          │ New York                  │ 2024-02-24 20:00:00 │ 2024-02-24 20:44:00 │     68.18585286511737 │         3.238212428284869 │ 18.388011513893147 │  5.0678058197903395 │ Evening     │ Tuesday     │         31.45637484180004 │       93.09646135579081 │                        164.3760222940225 │   34.02977464098818 │                 4.0 │ Level 2         │ Casual Driver          │\n",
       "│ User_1318 │ Nissan Leaf   │                  100.0 │ Station_374         │ New York                  │ 2024-02-24 21:00:00 │ 2024-02-24 23:03:00 │    18.895101661444066 │        3.2671216940712613 │  45.48206597304863 │   37.25500156117982 │ Evening     │ Tuesday     │         71.90308072624399 │       78.67887870237226 │                        226.5192581737514 │   20.35876101645039 │                 5.0 │ DC Fast Charger │ Commuter               │\n",
       "│ User_1319 │ Chevy Bolt    │                   85.0 │ Station_336         │ San Francisco             │ 2024-02-24 22:00:00 │ 2024-02-24 23:20:00 │    13.756251502993859 │         2.754527481618902 │ 38.148183267445766 │  39.046146064753984 │ Afternoon   │ Sunday      │           76.187997075293 │        65.9265734314916 │                       291.49407559697397 │   24.13459801583604 │                 5.0 │ Level 2         │ Commuter               │\n",
       "│ User_1320 │ Nissan Leaf   │     120.44719519636557 │ Station_128         │ Los Angeles               │ 2024-02-24 23:00:00 │ 2024-02-24 23:56:00 │     63.65257024136892 │        3.7409703687194935 │   33.7042260973883 │  10.863674284043608 │ Evening     │ Monday      │         59.33807594475034 │       56.69243947901475 │                       14.449235532065112 │   -6.96659298109081 │                 5.0 │ DC Fast Charger │ Commuter               │\n",
       "├───────────┴───────────────┴────────────────────────┴─────────────────────┴───────────────────────────┴─────────────────────┴─────────────────────┴───────────────────────┴───────────────────────────┴────────────────────┴─────────────────────┴─────────────┴─────────────┴───────────────────────────┴─────────────────────────┴──────────────────────────────────────────┴─────────────────────┴─────────────────────┴─────────────────┴────────────────────────┤\n",
       "│ 1320 rows (20 shown)                                                                                                                                                                                                                                                                                                                                                                                                                                     20 columns │\n",
       "└─────────────────────────────────────────────────────────────────────────────────────────────────────────────────────────────────────────────────────────────────────────────────────────────────────────────────────────────────────────────────────────────────────────────────────────────────────────────────────────────────────────────────────────────────────────────────────────────────────────────────────────────────────────────────────────────────────┘"
      ]
     },
     "execution_count": 2,
     "metadata": {},
     "output_type": "execute_result"
    }
   ],
   "source": [
    "import duckdb\n",
    "\n",
    "duckdb.sql(f\"SELECT * from '{url}'\")"
   ]
  },
  {
   "cell_type": "markdown",
   "metadata": {},
   "source": [
    "## Create a database and write"
   ]
  },
  {
   "cell_type": "code",
   "execution_count": 3,
   "metadata": {},
   "outputs": [
    {
     "name": "stdout",
     "output_type": "stream",
     "text": [
      "┌───────┬─────────┐\n",
      "│   i   │  text   │\n",
      "│ float │ varchar │\n",
      "├───────┼─────────┤\n",
      "│  42.0 │ Hello   │\n",
      "└───────┴─────────┘\n",
      "\n"
     ]
    }
   ],
   "source": [
    "# create a connection to a file called 'file.db'\n",
    "con = duckdb.connect(\"file.db\")\n",
    "# drop the table\n",
    "con.sql(\"DROP TABLE IF EXISTS test\")\n",
    "# create a table and load data into it\n",
    "con.sql(\"CREATE TABLE test (i FLOAT, text VARCHAR)\")\n",
    "con.sql(\"INSERT INTO test VALUES (42, 'Hello')\")\n",
    "# query the table\n",
    "con.table(\"test\").show()\n",
    "# explicitly close the connection\n",
    "con.close()\n",
    "# Note: connections also closed implicitly when they go out of scope"
   ]
  },
  {
   "cell_type": "markdown",
   "metadata": {},
   "source": [
    "## Create table from csv"
   ]
  },
  {
   "cell_type": "code",
   "execution_count": 4,
   "metadata": {},
   "outputs": [
    {
     "name": "stdout",
     "output_type": "stream",
     "text": [
      "┌──────────┬───────────────┬────────────────────────┬─────────────────────┬───────────────────────────┬─────────────────────┬─────────────────────┬───────────────────────┬───────────────────────────┬────────────────────┬─────────────────────┬─────────────┬─────────────┬───────────────────────────┬─────────────────────────┬──────────────────────────────────────────┬─────────────────────┬─────────────────────┬─────────────────┬────────────────────────┐\n",
      "│ User ID  │ Vehicle Model │ Battery Capacity (kWh) │ Charging Station ID │ Charging Station Location │ Charging Start Time │  Charging End Time  │ Energy Consumed (kWh) │ Charging Duration (hours) │ Charging Rate (kW) │ Charging Cost (USD) │ Time of Day │ Day of Week │ State of Charge (Start %) │ State of Charge (End %) │ Distance Driven (since last charge) (km) │  Temperature (°C)   │ Vehicle Age (years) │  Charger Type   │       User Type        │\n",
      "│ varchar  │    varchar    │         double         │       varchar       │          varchar          │      timestamp      │      timestamp      │        double         │          double           │       double       │       double        │   varchar   │   varchar   │          double           │         double          │                  double                  │       double        │       double        │     varchar     │        varchar         │\n",
      "├──────────┼───────────────┼────────────────────────┼─────────────────────┼───────────────────────────┼─────────────────────┼─────────────────────┼───────────────────────┼───────────────────────────┼────────────────────┼─────────────────────┼─────────────┼─────────────┼───────────────────────────┼─────────────────────────┼──────────────────────────────────────────┼─────────────────────┼─────────────────────┼─────────────────┼────────────────────────┤\n",
      "│ User_1   │ BMW i3        │     108.46300741284072 │ Station_391         │ Houston                   │ 2024-01-01 00:00:00 │ 2024-01-01 00:39:00 │     60.71234573492677 │        0.5913634253585007 │   36.3891805669814 │  13.087716791774506 │ Evening     │ Tuesday     │        29.371575979140047 │       86.11996244457839 │                        293.6021106383279 │  27.947953055800944 │                 2.0 │ DC Fast Charger │ Commuter               │\n",
      "│ User_2   │ Hyundai Kona  │                  100.0 │ Station_428         │ San Francisco             │ 2024-01-01 01:00:00 │ 2024-01-01 03:01:00 │    12.339275203733752 │         3.133652052688084 │ 30.677734939714437 │   21.12844792913739 │ Morning     │ Monday      │        10.115777641679946 │       84.66434362786444 │                       112.11280368218186 │  14.311025660377787 │                 3.0 │ Level 1         │ Casual Driver          │\n",
      "│ User_3   │ Chevy Bolt    │                   75.0 │ Station_181         │ San Francisco             │ 2024-01-01 02:00:00 │ 2024-01-01 04:48:00 │    19.128875700115476 │        2.4526527258367823 │ 27.513592558773237 │   35.66727042356739 │ Morning     │ Thursday    │         6.854604444398554 │       69.91761524016282 │                        71.79925292594801 │   21.00200183614421 │                 2.0 │ Level 2         │ Commuter               │\n",
      "│ User_4   │ Hyundai Kona  │                   50.0 │ Station_327         │ Houston                   │ 2024-01-01 03:00:00 │ 2024-01-01 06:42:00 │     79.45782398845503 │        1.2664308046204513 │ 32.882869757386224 │  13.036238833914622 │ Evening     │ Saturday    │         83.12000296074223 │       99.62432763119423 │                        199.5777845163286 │  38.316313160363435 │                 1.0 │ Level 1         │ Long-Distance Traveler │\n",
      "│ User_5   │ Hyundai Kona  │                   50.0 │ Station_108         │ Los Angeles               │ 2024-01-01 04:00:00 │ 2024-01-01 05:46:00 │     19.62910416772725 │        2.0197650865894614 │ 10.215712071204607 │  10.161471171031415 │ Morning     │ Saturday    │         54.25894969116981 │      63.743786036169695 │                       203.66184655799864 │ -7.8341990272492135 │                 1.0 │ Level 1         │ Long-Distance Traveler │\n",
      "│ User_6   │ Nissan Leaf   │                   50.0 │ Station_335         │ San Francisco             │ 2024-01-01 05:00:00 │ 2024-01-01 07:10:00 │     43.18113714248533 │        1.1676401541014236 │  14.33452277611833 │   36.90034077796173 │ Evening     │ Saturday    │         75.21774833696946 │       71.98228757123687 │                       143.68004610728443 │  -5.274217796522686 │                 0.0 │ DC Fast Charger │ Long-Distance Traveler │\n",
      "│ User_7   │ Chevy Bolt    │                   85.0 │ Station_162         │ Houston                   │ 2024-01-01 06:00:00 │ 2024-01-01 07:53:00 │    36.862139988267536 │        3.5396190263161467 │ 26.185187860033516 │   22.21422517569784 │ Evening     │ Friday      │         60.75178075976676 │       70.79609690147149 │                        81.33800890802773 │    27.5513346806664 │                 4.0 │ Level 2         │ Commuter               │\n",
      "│ User_8   │ Chevy Bolt    │                   75.0 │ Station_302         │ Los Angeles               │ 2024-01-01 07:00:00 │ 2024-01-01 10:42:00 │     51.46761685839947 │        2.6553964456130235 │   26.7029077655282 │   9.796821321322033 │ Afternoon   │ Monday      │        56.201703032995454 │      63.786815331776616 │                       116.54316578116932 │   -4.41745966595273 │                 0.0 │ Level 2         │ Long-Distance Traveler │\n",
      "│ User_9   │ Chevy Bolt    │                   62.0 │ Station_493         │ Los Angeles               │ 2024-01-01 08:00:00 │ 2024-01-01 09:21:00 │     43.59237228216989 │         1.724203599132774 │ 14.294922926661108 │  32.465005072088225 │ Evening     │ Wednesday   │         33.46620026326066 │       92.96142090358896 │                       208.25974249443672 │   22.51670642679634 │                 4.0 │ Level 1         │ Commuter               │\n",
      "│ User_10  │ Hyundai Kona  │                   50.0 │ Station_452         │ Chicago                   │ 2024-01-01 09:00:00 │ 2024-01-01 12:44:00 │     78.86860745126785 │        2.0268746909843576 │  11.76099971515701 │  21.312302451155745 │ Morning     │ Wednesday   │        27.399454625609152 │       70.05338137780706 │                        54.00630919992556 │  27.512019364625914 │   2.830381306943589 │ DC Fast Charger │ Commuter               │\n",
      "│    ·     │     ·         │                     ·  │      ·              │    ·                      │          ·          │          ·          │             ·         │                 ·         │          ·         │           ·         │   ·         │   ·         │                 ·         │                ·        │                                ·         │           ·         │                  ·  │    ·            │    ·                   │\n",
      "│    ·     │     ·         │                     ·  │      ·              │    ·                      │          ·          │          ·          │             ·         │                 ·         │          ·         │           ·         │   ·         │   ·         │                 ·         │                ·        │                                ·         │           ·         │                  ·  │    ·            │    ·                   │\n",
      "│    ·     │     ·         │                     ·  │      ·              │    ·                      │          ·          │          ·          │             ·         │                 ·         │          ·         │           ·         │   ·         │   ·         │                 ·         │                ·        │                                ·         │           ·         │                  ·  │    ·            │    ·                   │\n",
      "│ User_91  │ Chevy Bolt    │                   50.0 │ Station_270         │ San Francisco             │ 2024-01-04 18:00:00 │ 2024-01-04 21:41:00 │    28.440773917754164 │        1.0796586545757096 │  42.42512683318396 │  13.779804175546838 │ Night       │ Friday      │        13.667240803504383 │        96.3460346157945 │                        398.3647747436511 │  27.813135549380647 │                 0.0 │ Level 2         │ Long-Distance Traveler │\n",
      "│ User_92  │ Tesla Model 3 │                   62.0 │ Station_180         │ New York                  │ 2024-01-04 19:00:00 │ 2024-01-04 22:52:00 │     68.57302471319414 │        2.9303906461796965 │ 5.4546927018545635 │  15.889414479213295 │ Evening     │ Saturday    │         50.31669101477427 │       93.89345034552564 │                       191.45599448624304 │   37.89979105281139 │                 4.0 │ Level 1         │ Commuter               │\n",
      "│ User_93  │ Chevy Bolt    │                   85.0 │ Station_224         │ Houston                   │ 2024-01-04 20:00:00 │ 2024-01-04 23:34:00 │       65.431016913359 │         0.929486553755634 │ 20.272698935130492 │  10.395657972388529 │ Night       │ Sunday      │         76.46681163744769 │       75.84995702645678 │                        71.43600424010651 │  30.199709557192065 │                 6.0 │ DC Fast Charger │ Long-Distance Traveler │\n",
      "│ User_94  │ Chevy Bolt    │                   75.0 │ Station_6           │ Los Angeles               │ 2024-01-04 21:00:00 │ 2024-01-04 23:30:00 │     71.61568949106118 │        3.5150120063589623 │ 31.271844526976924 │  21.263560509313127 │ Morning     │ Friday      │        51.794505043999976 │       64.55436324971151 │                       16.681445822961763 │    -1.7198500093383 │                 3.0 │ Level 2         │ Casual Driver          │\n",
      "│ User_95  │ Tesla Model 3 │                   85.0 │ Station_103         │ San Francisco             │ 2024-01-04 22:00:00 │ 2024-01-05 01:51:00 │     7.930901450146639 │        2.3423957855284567 │  44.12212998806049 │   33.81843011264206 │ Evening     │ Tuesday     │         42.73907176379696 │       72.96602310099009 │                        55.67750505100865 │  16.808358267905795 │                 7.0 │ DC Fast Charger │ Casual Driver          │\n",
      "│ User_96  │ Chevy Bolt    │     24.599922148424586 │ Station_10          │ Chicago                   │ 2024-01-04 23:00:00 │ 2024-01-05 00:43:00 │                  NULL │         1.382497912326283 │  32.43654897645034 │   38.05802231508733 │ Night       │ Tuesday     │         48.32735368393833 │        85.0674221187275 │                                     NULL │  23.398468358721537 │                 5.0 │ Level 1         │ Casual Driver          │\n",
      "│ User_97  │ Hyundai Kona  │                   75.0 │ Station_71          │ San Francisco             │ 2024-01-05 00:00:00 │ 2024-01-05 02:16:00 │     55.72920335411825 │        3.8290118099189465 │ 21.723067323519977 │  38.093717509092535 │ Morning     │ Tuesday     │         63.40496814289373 │       68.34785563762274 │                        74.05219273087201 │  34.663455770884916 │                 0.0 │ Level 2         │ Casual Driver          │\n",
      "│ User_98  │ Nissan Leaf   │                   85.0 │ Station_90          │ Los Angeles               │ 2024-01-05 01:00:00 │ 2024-01-05 03:33:00 │    31.046574961450595 │        0.6902816245406431 │ 28.004859152178902 │   6.254545331359625 │ Night       │ Saturday    │          47.1578609567738 │       66.19348839519058 │                                     NULL │  15.627395920888151 │                 7.0 │ DC Fast Charger │ Casual Driver          │\n",
      "│ User_99  │ Nissan Leaf   │                   62.0 │ Station_226         │ San Francisco             │ 2024-01-05 02:00:00 │ 2024-01-05 05:47:00 │    15.917563237492681 │         3.348390650345465 │ 17.551626214972885 │   9.531208380836187 │ Evening     │ Saturday    │         80.19872330540268 │       73.21652206981314 │                       117.79183997954787 │  15.435807030838415 │  0.9252766613340969 │ DC Fast Charger │ Casual Driver          │\n",
      "│ User_100 │ Tesla Model 3 │                  100.0 │ Station_158         │ New York                  │ 2024-01-05 03:00:00 │ 2024-01-05 05:09:00 │     50.90348235510272 │        3.6213171012978576 │               NULL │  28.338887033390286 │ Night       │ Sunday      │         54.44920445667424 │       60.55781887703402 │                       10.441929226166076 │  30.044882883320888 │                 7.0 │ DC Fast Charger │ Commuter               │\n",
      "├──────────┴───────────────┴────────────────────────┴─────────────────────┴───────────────────────────┴─────────────────────┴─────────────────────┴───────────────────────┴───────────────────────────┴────────────────────┴─────────────────────┴─────────────┴─────────────┴───────────────────────────┴─────────────────────────┴──────────────────────────────────────────┴─────────────────────┴─────────────────────┴─────────────────┴────────────────────────┤\n",
      "│ 100 rows (20 shown)                                                                                                                                                                                                                                                                                                                                                                                                                                     20 columns │\n",
      "└────────────────────────────────────────────────────────────────────────────────────────────────────────────────────────────────────────────────────────────────────────────────────────────────────────────────────────────────────────────────────────────────────────────────────────────────────────────────────────────────────────────────────────────────────────────────────────────────────────────────────────────────────────────────────────────────────┘\n",
      "\n"
     ]
    }
   ],
   "source": [
    "# create query string\n",
    "query = f\"\"\"\n",
    "        CREATE TABLE test2 AS\n",
    "            SELECT *\n",
    "            FROM read_csv('{url}')\n",
    "            LIMIT 100;\n",
    "        \"\"\"\n",
    "# create a connection to a file called 'file.db'\n",
    "con = duckdb.connect(\"file.db\")\n",
    "# drop the table\n",
    "con.sql(\"DROP TABLE IF EXISTS test2\")\n",
    "# create table from csv\n",
    "con.sql(query)\n",
    "# query the table\n",
    "con.table(\"test2\").show()\n",
    "# explicitly close the connection\n",
    "con.close()"
   ]
  },
  {
   "cell_type": "markdown",
   "metadata": {},
   "source": [
    "## SELECT statement"
   ]
  },
  {
   "cell_type": "code",
   "execution_count": 5,
   "metadata": {},
   "outputs": [
    {
     "name": "stdout",
     "output_type": "stream",
     "text": [
      "[('User ID', 'VARCHAR', 'YES', None, None, None), ('Vehicle Model', 'VARCHAR', 'YES', None, None, None), ('Battery Capacity (kWh)', 'DOUBLE', 'YES', None, None, None), ('Charging Station ID', 'VARCHAR', 'YES', None, None, None), ('Charging Station Location', 'VARCHAR', 'YES', None, None, None), ('Charging Start Time', 'TIMESTAMP', 'YES', None, None, None), ('Charging End Time', 'TIMESTAMP', 'YES', None, None, None), ('Energy Consumed (kWh)', 'DOUBLE', 'YES', None, None, None), ('Charging Duration (hours)', 'DOUBLE', 'YES', None, None, None), ('Charging Rate (kW)', 'DOUBLE', 'YES', None, None, None), ('Charging Cost (USD)', 'DOUBLE', 'YES', None, None, None), ('Time of Day', 'VARCHAR', 'YES', None, None, None), ('Day of Week', 'VARCHAR', 'YES', None, None, None), ('State of Charge (Start %)', 'DOUBLE', 'YES', None, None, None), ('State of Charge (End %)', 'DOUBLE', 'YES', None, None, None), ('Distance Driven (since last charge) (km)', 'DOUBLE', 'YES', None, None, None), ('Temperature (°C)', 'DOUBLE', 'YES', None, None, None), ('Vehicle Age (years)', 'DOUBLE', 'YES', None, None, None), ('Charger Type', 'VARCHAR', 'YES', None, None, None), ('User Type', 'VARCHAR', 'YES', None, None, None)]\n"
     ]
    }
   ],
   "source": [
    "\n",
    "# create a connection to a file called 'file.db'\n",
    "con = duckdb.connect(\"file.db\")\n",
    "# create query string\n",
    "query = f\"\"\"\n",
    "            DESCRIBE test2;\n",
    "        \"\"\"\n",
    "# run query\n",
    "con.execute(query)\n",
    "print(con.fetchall())\n",
    "# explicitly close the connection\n",
    "con.close()"
   ]
  },
  {
   "cell_type": "code",
   "execution_count": 6,
   "metadata": {},
   "outputs": [
    {
     "name": "stdout",
     "output_type": "stream",
     "text": [
      "[('User_1', 'BMW i3', 108.46300741284072, 'Station_391', 'Houston', datetime.datetime(2024, 1, 1, 0, 0), datetime.datetime(2024, 1, 1, 0, 39), 60.71234573492677, 0.5913634253585007, 36.3891805669814, 13.087716791774506, 'Evening', 'Tuesday', 29.371575979140047, 86.11996244457839, 293.6021106383279, 27.947953055800944, 2.0, 'DC Fast Charger', 'Commuter'), ('User_11', 'BMW i3', 50.0, 'Station_206', 'Los Angeles', datetime.datetime(2024, 1, 1, 10, 0), datetime.datetime(2024, 1, 1, 13, 59), 18.206197477378716, 2.6486354477276968, 10.310701112892176, 38.221230704051806, 'Night', 'Thursday', 76.08656557040186, 82.2655816267944, 64.63464374887128, 0.5004335643954789, 3.0, 'DC Fast Charger', 'Casual Driver'), ('User_15', 'BMW i3', 85.0, 'Station_96', 'Houston', datetime.datetime(2024, 1, 1, 14, 0), datetime.datetime(2024, 1, 1, 17, 32), 12.927545290947553, 3.4218093378407497, 24.211150117119175, 18.552815677456245, 'Afternoon', 'Monday', 71.68354383511853, 63.70663794066834, 155.36060543681995, 39.50544568765913, 4.0, 'Level 1', 'Casual Driver'), ('User_17', 'BMW i3', 97.681812229825, 'Station_2', 'New York', datetime.datetime(2024, 1, 1, 16, 0), datetime.datetime(2024, 1, 1, 18, 2), 24.726937680708804, 3.4586802787724484, 49.40273861566977, 17.49480846107398, 'Evening', 'Thursday', 67.59197091077596, 89.94222936485875, 237.3064209427689, 4.41532961880046, 7.0, 'DC Fast Charger', 'Commuter'), ('User_20', 'BMW i3', 50.0, 'Station_125', 'Los Angeles', datetime.datetime(2024, 1, 1, 19, 0), datetime.datetime(2024, 1, 1, 20, 22), 48.48248430757049, 2.5809253540076567, 45.29143534649799, 7.090844200594135, 'Morning', 'Wednesday', 12.754877571721774, 116.09565688940141, 243.25576946966927, 9.202409891916812, 3.0, 'Level 2', 'Long-Distance Traveler'), ('User_23', 'BMW i3', 75.0, 'Station_140', 'Chicago', datetime.datetime(2024, 1, 1, 22, 0), datetime.datetime(2024, 1, 2, 1, 2), 49.19642958971384, 2.5628173042684104, 19.194882837079632, 14.856131218606725, 'Afternoon', 'Saturday', 49.02423910950519, 64.48187393759193, 298.18812231836336, 39.95893731677202, 4.257936702758294, 'DC Fast Charger', 'Long-Distance Traveler'), ('User_29', 'BMW i3', 75.0, 'Station_129', 'Los Angeles', datetime.datetime(2024, 1, 2, 4, 0), datetime.datetime(2024, 1, 2, 4, 35), 31.684484586574477, 2.4396779381538938, 48.64872319079225, 25.617103995808733, 'Afternoon', 'Friday', 34.72763909597674, 54.40205038521579, None, 20.378562310274326, 3.0, 'Level 2', 'Casual Driver'), ('User_30', 'BMW i3', 75.0, 'Station_438', 'Chicago', datetime.datetime(2024, 1, 2, 5, 0), datetime.datetime(2024, 1, 2, 7, 58), 56.59325685914933, 3.153257254972797, 45.81173100244055, 33.13209178024766, 'Afternoon', 'Friday', 29.207671702279008, 85.00810624066354, 186.15573210131026, 12.333415373869066, 0.0, 'DC Fast Charger', 'Casual Driver'), ('User_32', 'BMW i3', 100.0, 'Station_58', 'Chicago', datetime.datetime(2024, 1, 2, 7, 0), datetime.datetime(2024, 1, 2, 9, 27), 38.289199335542705, 2.0076640542660726, 12.064391459035129, 17.011782945517666, 'Evening', 'Wednesday', 75.6447784790562, 65.61730718592959, 238.90931096310854, 2.2731629009720518, 6.0, 'Level 1', 'Commuter'), ('User_33', 'BMW i3', 100.0, 'Station_198', 'New York', datetime.datetime(2024, 1, 2, 8, 0), datetime.datetime(2024, 1, 2, 9, 58), 16.136238725396332, 1.3069272717462839, 21.517815048554308, 26.438194237490425, 'Evening', 'Monday', 23.603991432132744, 88.2000728013921, 35.50388319357353, 39.38401391534167, 1.0, 'Level 2', 'Casual Driver'), ('User_41', 'BMW i3', 79.7992037611215, 'Station_410', 'Los Angeles', datetime.datetime(2024, 1, 2, 16, 0), datetime.datetime(2024, 1, 2, 18, 58), 67.51805822343026, 1.9623405401552507, 6.897878329777162, 29.222361949491813, 'Night', 'Sunday', 80.86258863357027, 62.52531776559165, 119.63099233488511, 35.233158486596466, 1.9692327223243997, 'Level 2', 'Casual Driver'), ('User_43', 'BMW i3', 85.0, 'Station_391', 'Houston', datetime.datetime(2024, 1, 2, 18, 0), datetime.datetime(2024, 1, 2, 20, 53), 12.049319706245154, 1.373881357931789, 29.468944357780007, 32.04209859904496, 'Night', 'Saturday', 36.636852158024986, 66.97610432369274, 83.24522142563875, 39.41613092437325, 4.0, 'Level 1', 'Commuter'), ('User_50', 'BMW i3', 100.0, 'Station_36', 'New York', datetime.datetime(2024, 1, 3, 1, 0), datetime.datetime(2024, 1, 3, 3, 40), 8.713190575944605, 2.2095428234972503, 49.275345589419594, 9.644101413904608, 'Afternoon', 'Saturday', 27.196196012553663, 86.89391764029943, 170.47505412270155, 5.37807958403098, 6.0, 'Level 2', 'Long-Distance Traveler'), ('User_51', 'BMW i3', 85.0, 'Station_109', 'San Francisco', datetime.datetime(2024, 1, 3, 2, 0), datetime.datetime(2024, 1, 3, 2, 48), 9.065880815449479, 0.5123781829612861, 40.17800199145749, 24.501893310078895, 'Morning', 'Tuesday', 13.873858113381532, 93.62842306259269, 226.2193631647091, 30.691983801807638, 2.6163324827383008, 'DC Fast Charger', 'Casual Driver'), ('User_52', 'BMW i3', 50.0, 'Station_55', 'Los Angeles', datetime.datetime(2024, 1, 3, 3, 0), datetime.datetime(2024, 1, 3, 5, 6), 58.73397361690925, 1.8892615183452202, 13.175727296302622, 28.102310057172495, 'Morning', 'Saturday', 83.86192690828396, 71.37448250923295, 57.38072425225101, 1.9411051564848716, 3.0, 'Level 1', 'Commuter'), ('User_53', 'BMW i3', 50.0, 'Station_192', 'Chicago', datetime.datetime(2024, 1, 3, 4, 0), datetime.datetime(2024, 1, 3, 5, 35), 65.98624912728606, 3.3138023577161824, 46.27844331315938, 18.849610405397158, 'Morning', 'Wednesday', 17.38966714207173, 73.4380396237612, 234.99666157294837, -7.719425911074026, 0.0, 'Level 2', 'Long-Distance Traveler'), ('User_57', 'BMW i3', 69.88407424915135, 'Station_317', 'San Francisco', datetime.datetime(2024, 1, 3, 8, 0), datetime.datetime(2024, 1, 3, 11, 51), 76.45046498743068, 3.873449980578508, 11.339063162639302, 30.192234438786446, 'Evening', 'Wednesday', 63.67446343632872, 55.389776083986256, 191.93791499432749, 10.424645029884408, 2.0, 'Level 2', 'Commuter'), ('User_59', 'BMW i3', 100.0, 'Station_55', 'Chicago', datetime.datetime(2024, 1, 3, 10, 0), datetime.datetime(2024, 1, 3, 12, 59), 21.89299267514347, 1.285283896923329, 25.37395430520664, 8.637821690612405, 'Morning', 'Saturday', 80.22553380560572, 64.66736188293022, 148.41561166314776, 5.073167724155329, 7.0, 'DC Fast Charger', 'Casual Driver'), ('User_62', 'BMW i3', 75.0, 'Station_336', 'Chicago', datetime.datetime(2024, 1, 3, 13, 0), datetime.datetime(2024, 1, 3, 15, 0), 62.723162291274086, 2.1178933499543517, 30.9970269340748, 30.04444235282833, 'Morning', 'Monday', 82.84418006572773, 72.83328568716698, 282.94232177358236, 32.852732623649764, 7.0, 'DC Fast Charger', 'Casual Driver'), ('User_66', 'BMW i3', 62.0, 'Station_208', 'Houston', datetime.datetime(2024, 1, 3, 17, 0), datetime.datetime(2024, 1, 3, 18, 46), 59.25460166411963, 1.2796206959579637, None, 12.220438303566691, 'Night', 'Thursday', 77.03697398688679, 91.82927487145972, 167.29757277309406, 35.27145068625696, 7.0, 'Level 2', 'Long-Distance Traveler'), ('User_69', 'BMW i3', 75.0, 'Station_154', 'Los Angeles', datetime.datetime(2024, 1, 3, 20, 0), datetime.datetime(2024, 1, 3, 22, 37), 16.41401693253662, 1.702974822474663, None, 21.667786643873225, 'Morning', 'Sunday', 36.950283611109775, 77.13616493524884, 188.47148981831262, 18.53871081800196, 7.0, 'Level 1', 'Casual Driver'), ('User_70', 'BMW i3', 50.0, 'Station_35', 'Houston', datetime.datetime(2024, 1, 3, 21, 0), datetime.datetime(2024, 1, 3, 22, 47), 67.00568214318923, 3.608030961009233, 4.092360865180499, 14.42396639096435, 'Night', 'Monday', 57.677660751028775, 57.11286224854077, 276.3684303122313, -2.7249027658978378, 4.122767456931069, 'Level 1', 'Long-Distance Traveler'), ('User_78', 'BMW i3', 75.0, 'Station_169', 'New York', datetime.datetime(2024, 1, 4, 5, 0), datetime.datetime(2024, 1, 4, 8, 40), 31.218889683829406, 3.340997592022919, 30.02591267156402, 17.60489531315022, 'Afternoon', 'Monday', 39.517616762842984, 71.27176463552543, 242.48556290631953, 39.83142977123109, 3.0, 'Level 2', 'Commuter'), ('User_79', 'BMW i3', 100.0, 'Station_151', 'Houston', datetime.datetime(2024, 1, 4, 6, 0), datetime.datetime(2024, 1, 4, 9, 55), 30.651699818598626, 1.0288186666188504, 28.522353335495254, 39.322054380129146, 'Evening', 'Friday', 38.12132999285809, 81.19721083979802, 12.149516678078115, -4.932743443178868, 1.0, 'DC Fast Charger', 'Casual Driver'), ('User_80', 'BMW i3', 75.0, 'Station_71', 'Houston', datetime.datetime(2024, 1, 4, 7, 0), datetime.datetime(2024, 1, 4, 7, 41), 59.9864767329939, 3.729365399834844, 23.417921150036502, 15.683016562744246, 'Afternoon', 'Wednesday', 88.09676846371462, 96.1305685919979, 281.763740323611, 15.060622448535312, 0.0, 'Level 1', 'Commuter'), ('User_89', 'BMW i3', 85.0, 'Station_1', 'Los Angeles', datetime.datetime(2024, 1, 4, 16, 0), datetime.datetime(2024, 1, 4, 17, 56), 33.07294950547435, 1.4696595869919784, 30.344748445823274, 15.55083822587802, 'Evening', 'Wednesday', 105.03222404185645, 83.02347311843918, 164.68289235141916, -6.514431826571196, 1.0, 'Level 2', 'Long-Distance Traveler')]\n"
     ]
    }
   ],
   "source": [
    "# create a connection to a file called 'file.db'\n",
    "con = duckdb.connect(\"file.db\")\n",
    "# create query string\n",
    "query = f\"\"\"\n",
    "            SELECT *\n",
    "            FROM test2\n",
    "            WHERE \"Vehicle Model\" ILIKE '%BMW%';\n",
    "        \"\"\"\n",
    "# run query\n",
    "con.execute(query)\n",
    "print(con.fetchall())\n",
    "# explicitly close the connection\n",
    "con.close()"
   ]
  },
  {
   "cell_type": "markdown",
   "metadata": {},
   "source": []
  }
 ],
 "metadata": {
  "kernelspec": {
   "display_name": ".venv",
   "language": "python",
   "name": "python3"
  },
  "language_info": {
   "codemirror_mode": {
    "name": "ipython",
    "version": 3
   },
   "file_extension": ".py",
   "mimetype": "text/x-python",
   "name": "python",
   "nbconvert_exporter": "python",
   "pygments_lexer": "ipython3",
   "version": "3.12.1"
  }
 },
 "nbformat": 4,
 "nbformat_minor": 2
}
